{
 "cells": [
  {
   "cell_type": "markdown",
   "id": "056efe8d",
   "metadata": {},
   "source": [
    "# Assignment 05 :  Chatbot \n",
    "\n",
    "Name: Tirthraj Mahajan  \n",
    "Roll Number: 31242\n",
    "\n",
    "Problem Statement  \n",
    "Develop an elementary chatbot for any suitable customer interaction application"
   ]
  },
  {
   "cell_type": "code",
   "execution_count": 1,
   "id": "4bee05e3",
   "metadata": {},
   "outputs": [
    {
     "data": {
      "text/plain": [
       "True"
      ]
     },
     "execution_count": 1,
     "metadata": {},
     "output_type": "execute_result"
    }
   ],
   "source": [
    "import nltk\n",
    "nltk.download(\"all\", quiet=True)"
   ]
  },
  {
   "cell_type": "code",
   "execution_count": 2,
   "id": "8ddfea76",
   "metadata": {},
   "outputs": [],
   "source": [
    "from nltk.corpus import wordnet\n",
    "from nltk.stem import WordNetLemmatizer\n",
    "from nltk.tokenize import word_tokenize\n",
    "from nltk import pos_tag\n",
    "import random\n"
   ]
  },
  {
   "cell_type": "markdown",
   "id": "5363333c",
   "metadata": {},
   "source": [
    "### Helper Functions"
   ]
  },
  {
   "cell_type": "code",
   "execution_count": 3,
   "id": "c2c476f6",
   "metadata": {},
   "outputs": [],
   "source": [
    "# --- Helper function for Lemmatization with POS tagging ---\n",
    "# WordNetLemmatizer works better if it knows the part-of-speech (POS)\n",
    "\n",
    "def get_wordnet_pos(treebank_tag):\n",
    "    if treebank_tag.startswith('J'):\n",
    "        return wordnet.ADJ\n",
    "    elif treebank_tag.startswith('V'):\n",
    "        return wordnet.VERB\n",
    "    elif treebank_tag.startswith('N'):\n",
    "        return wordnet.NOUN\n",
    "    elif treebank_tag.startswith('R'):\n",
    "        return wordnet.ADV\n",
    "    else:\n",
    "        # Default\n",
    "        return wordnet.NOUN"
   ]
  },
  {
   "cell_type": "code",
   "execution_count": 4,
   "id": "844d0bd4",
   "metadata": {},
   "outputs": [],
   "source": [
    "lemmatizer = WordNetLemmatizer()\n",
    "\n",
    "# --- Preprocessing function ---\n",
    "def preprocess_text(text:str):\n",
    "    text = text.lower()\n",
    "    tokens = word_tokenize(text)\n",
    "    tagged_tokens = pos_tag(tokens)\n",
    "    lemmas = [lemmatizer.lemmatize(word=word, pos=get_wordnet_pos(tag)) for word, tag in tagged_tokens]\n",
    "    return lemmas"
   ]
  },
  {
   "cell_type": "markdown",
   "id": "e4b5fba9",
   "metadata": {},
   "source": [
    "### Define the Rules"
   ]
  },
  {
   "cell_type": "code",
   "execution_count": 5,
   "id": "b40fdcc3",
   "metadata": {},
   "outputs": [],
   "source": [
    "rules = {\n",
    "    # --- Basic Greetings & Farewells ---\n",
    "    ('hello', 'hi', 'hey', 'greeting', 'wassup'):\n",
    "        [\"Hello there! Welcome to our cafe. How can I help you today?\", \"Hi! What can I get for you?\", \"Hey! Good to see you.\"],\n",
    "    ('thank', 'thanks', 'appreciate'):\n",
    "        [\"You're welcome!\", \"No problem! Enjoy your time here.\", \"Happy to help!\"],\n",
    "    ('bye', 'goodbye', 'exit', 'quit', 'see you'):\n",
    "        [\"Goodbye! Hope to see you again soon.\", \"Farewell! Have a wonderful day.\", \"Bye! Come back anytime.\"],\n",
    "\n",
    "    # --- Cafe Specific ---\n",
    "    ('menu', 'offer', 'serve', 'have', 'selection', 'list'):\n",
    "        [\"You can find our full menu on the board above the counter.\", \"Our menu includes various coffees, teas, pastries, sandwiches, and snacks.\", \"Please check the menu board for all our offerings and prices.\"],\n",
    "    ('coffee', 'brew', 'drip', 'filter', 'cup'):\n",
    "        [\"We have a variety of freshly brewed coffees! Anything specific you'd like?\", \"Our coffee selection includes drip, pour-over, and espresso-based drinks. Check the menu!\", \"Yes, we serve delicious coffee. Our baristas can help you choose.\"],\n",
    "    ('latte', 'cappuccino', 'espresso', 'americano', 'mocha', 'macchiato', 'flat white'): \n",
    "        [\"Yes, we make those! Check our menu board for details and options like milk choices.\", \"Absolutely, that's on our menu.\", \"We can definitely make that for you.\"],\n",
    "    ('tea', 'chai'):\n",
    "        [\"We have a selection of teas, including black, green, herbal infusions, and chai latte.\", \"Yes, we offer various types of tea. What kind are you in the mood for?\", \"Tea is available. Please ask the barista about today's selection or see the menu.\"],\n",
    "    ('food', 'eat', 'hungry', 'snack', 'pastry', 'cake', 'muffin', 'croissant', 'sandwich', 'bite'):\n",
    "        [\"We have a delicious selection of pastries, sandwiches, cakes, and snacks. Check our display case or menu board!\", \"Feeling hungry? We offer freshly baked goods and light meals.\", \"Yes, we have food options available. See our menu or ask our staff.\"],\n",
    "    ('wifi', 'internet', 'wi-fi', 'network', 'password'):\n",
    "        [\"Yes, we offer free WiFi for customers. The network name is 'CafeConnect_Guest' and the password is 'enjoyyourcoffee'.\", \"Free WiFi is available! The password should be on a sign near the counter, or just ask.\", \"Yes, WiFi is available for our guests. Network: CafeConnect_Guest, Password: enjoyyourcoffee\"],\n",
    "    ('pay', 'payment', 'card', 'cash', 'credit', 'upi', 'gpay', 'paytm', 'phonepe', 'scan'): \n",
    "        [\"We accept cash, credit/debit cards, and major UPI payments (like GPay, PhonePe, Paytm).\", \"You can pay with cash, card, or UPI scan.\", \"Payment options include cash, all major cards, and UPI apps.\"],\n",
    "    ('special', 'deal', 'offer', 'discount', 'promotion', 'combo'):\n",
    "        [\"Ask our barista about today's specials or any ongoing combos!\", \"We sometimes have seasonal offers. Please check the board or ask our staff.\", \"Check our board near the counter for any current deals or special offers.\"],\n",
    "    ('vegan', 'vegetarian', 'gluten-free', 'allergy', 'dairy-free', 'milk', 'soy', 'oat', 'almond'): \n",
    "        [\"We offer vegetarian options and alternative milks (like oat or almond). Please mention any allergies or dietary needs when ordering.\", \"We have options! Let the barista know your requirements when you order.\", \"Please inform our staff about any allergies. We have oat and almond milk available.\"],\n",
    "    ('restroom', 'bathroom', 'toilet', 'washroom', 'loo'):\n",
    "        [\"The restroom is located at the back, just past the counter to the left.\", \"Yes, the washroom is available for customers. It's down that short hallway.\", \"The restroom is just around the corner there.\"],\n",
    "    ('book', 'reservation', 'reserve', 'table'):\n",
    "        [\"We generally operate on a first-come, first-served basis, but you can call ahead for larger groups.\", \"Reservations aren't usually required, just come on in!\", \"We don't typically take reservations, but feel free to walk in!\"],\n",
    "    ('music', 'song', 'playlist', 'volume'):\n",
    "        [\"We play a curated playlist. Hope you enjoy the vibes!\", \"Glad you noticed the music! It's a mix we enjoy.\", \"If the music volume is uncomfortable, please let our staff know.\"],\n",
    "\n",
    "    # --- General Info ---\n",
    "    ('hour', 'open', 'close', 'time', 'timing'):\n",
    "        [\"Our cafe hours are 8 AM to 8 PM, seven days a week.\", \"We're open from 8 in the morning until 8 in the evening daily.\", \"Opening hours: 8:00 AM - 8:00 PM everyday.\"],\n",
    "    ('location', 'address', 'where', 'find'):\n",
    "        [\"We're located at 15 Cafe Lane, Koregaon Park, Pune.\", \"You can find us at 15 Cafe Lane in KP.\", \"Our address is 15 Cafe Lane, Pune. Easy to find!\"], # Example Pune Address\n",
    "    ('help', 'assist', 'support', 'question'):\n",
    "        [\"Sure, I can try to help. What's your question about our cafe?\", \"How can I assist you regarding the cafe?\", \"I can answer questions about our menu, hours, WiFi, etc. What would you like to know?\"]\n",
    "}\n"
   ]
  },
  {
   "cell_type": "markdown",
   "id": "b55c6c93",
   "metadata": {},
   "source": [
    "### Get Response from Bot"
   ]
  },
  {
   "cell_type": "code",
   "execution_count": 6,
   "id": "daf3f671",
   "metadata": {},
   "outputs": [],
   "source": [
    "def get_response(user_input:str):\n",
    "    lemmas = preprocess_text(user_input)\n",
    "\n",
    "    for keywords, responses in rules.items():\n",
    "        if any(keyword in lemmas for keyword in keywords):\n",
    "            return random.choice(responses)\n",
    "    \n",
    "    return random.choice([\n",
    "        \"I'm sorry, I didn't quite get that. Could you ask about our menu, coffee, hours, or WiFi perhaps?\",\n",
    "        \"Hmm, I'm not sure about that. Try asking about our offerings or general cafe info.\",\n",
    "        \"I can best answer questions about coffee, tea, food, hours, location, and WiFi. Could you rephrase?\"\n",
    "    ])"
   ]
  },
  {
   "cell_type": "markdown",
   "id": "2349a2f9",
   "metadata": {},
   "source": [
    "### Run Chatbot Function"
   ]
  },
  {
   "cell_type": "code",
   "execution_count": 7,
   "id": "08d1e99e",
   "metadata": {},
   "outputs": [],
   "source": [
    "def run_chatbot():\n",
    "    print(\"Chatbot: Welcome to our Cafe Assistant! Ask me about the menu, hours, WiFi, etc. (Type 'bye' to exit)\")\n",
    "    while True:\n",
    "        try:\n",
    "            user_input = input(\"You: \")\n",
    "            if not user_input.strip():\n",
    "                print(\"Chatbot: Please say something!\")\n",
    "                continue\n",
    "            processed_exit_check = preprocess_text(user_input)\n",
    "\n",
    "            if any(lemma in processed_exit_check for lemma in ('bye', 'goodbye', 'exit', 'quit')):\n",
    "                response = \"Goodbye! Hope to see you again soon.\" \n",
    "                for keywords, responses in rules.items():\n",
    "                    if any(k in ('bye', 'goodbye', 'exit', 'quit') for k in keywords):\n",
    "                        response = random.choice(responses)\n",
    "                        break\n",
    "                print(f\"Chatbot: {response}\")\n",
    "                break\n",
    "\n",
    "            response = get_response(user_input)\n",
    "            print(f\"Chatbot: {response}\")\n",
    "\n",
    "        except EOFError: # Handle Ctrl+D\n",
    "            print(\"\\nChatbot: Goodbye! Hope you enjoyed your virtual coffee.\")\n",
    "            break\n",
    "        except KeyboardInterrupt: # Handle Ctrl+C\n",
    "            print(\"\\nChatbot: Okay, goodbye!\")\n",
    "            break"
   ]
  }
 ],
 "metadata": {
  "kernelspec": {
   "display_name": ".venv",
   "language": "python",
   "name": "python3"
  },
  "language_info": {
   "codemirror_mode": {
    "name": "ipython",
    "version": 3
   },
   "file_extension": ".py",
   "mimetype": "text/x-python",
   "name": "python",
   "nbconvert_exporter": "python",
   "pygments_lexer": "ipython3",
   "version": "3.11.4"
  }
 },
 "nbformat": 4,
 "nbformat_minor": 5
}
